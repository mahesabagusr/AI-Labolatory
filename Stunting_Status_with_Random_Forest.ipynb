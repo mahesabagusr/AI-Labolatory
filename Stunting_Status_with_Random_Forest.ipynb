{
  "nbformat": 4,
  "nbformat_minor": 0,
  "metadata": {
    "colab": {
      "provenance": [],
      "authorship_tag": "ABX9TyPl9FFpzJPqCs50UjeYq7qR",
      "include_colab_link": true
    },
    "kernelspec": {
      "name": "python3",
      "display_name": "Python 3"
    },
    "language_info": {
      "name": "python"
    }
  },
  "cells": [
    {
      "cell_type": "markdown",
      "metadata": {
        "id": "view-in-github",
        "colab_type": "text"
      },
      "source": [
        "<a href=\"https://colab.research.google.com/github/mahesabagusr/AI-Labolatory/blob/Stunting-Status-with-Random-Forest/Stunting_Status_with_Random_Forest.ipynb\" target=\"_parent\"><img src=\"https://colab.research.google.com/assets/colab-badge.svg\" alt=\"Open In Colab\"/></a>"
      ]
    },
    {
      "cell_type": "code",
      "execution_count": null,
      "metadata": {
        "id": "qWNv9EUeVGFa"
      },
      "outputs": [],
      "source": [
        "import pandas as pd\n",
        "from sklearn.ensemble import RandomForestClassifier\n",
        "from sklearn.model_selection import train_test_split\n",
        "from sklearn.metrics import accuracy_score, classification_report, confusion_matrix"
      ]
    },
    {
      "cell_type": "code",
      "source": [
        "!gdown 1KoYz0YsvNZ2DdhIdVxg6OnoxFZSFJBOc"
      ],
      "metadata": {
        "colab": {
          "base_uri": "https://localhost:8080/"
        },
        "id": "GtLd5Z65VIRN",
        "outputId": "ad172bae-37cc-4644-9940-d8eb23b92a95"
      },
      "execution_count": null,
      "outputs": [
        {
          "output_type": "stream",
          "name": "stdout",
          "text": [
            "Downloading...\n",
            "From: https://drive.google.com/uc?id=1KoYz0YsvNZ2DdhIdVxg6OnoxFZSFJBOc\n",
            "To: /content/stunting_data (4).xlsx\n",
            "\r  0% 0.00/93.0k [00:00<?, ?B/s]\r100% 93.0k/93.0k [00:00<00:00, 44.3MB/s]\n"
          ]
        }
      ]
    },
    {
      "cell_type": "code",
      "source": [
        "import pandas as pd\n",
        "\n",
        "# Function to map stunting status\n",
        "def map_stunting_status(height_for_age_z_score):\n",
        "    if height_for_age_z_score >= -2:\n",
        "        return 0  # No Stunting\n",
        "    elif -3 <= height_for_age_z_score < -2:\n",
        "        return 1  # Mild Stunting\n",
        "    else:\n",
        "        return 2  # Severe Stunting\n",
        "\n",
        "def map_gender(gender):\n",
        "    if gender == 'Laki-laki':\n",
        "        return 0  # Male\n",
        "    elif gender == 'Perempuan':\n",
        "        return 1  # Female\n",
        "    else:\n",
        "        return gender  # If the gender label is unexpected, return it as is\n",
        "\n",
        "# Read the Excel file\n",
        "file_path = '/content/stunting_data (4).xlsx'  # Change this to your actual file path\n",
        "df = pd.read_excel(file_path)\n",
        "\n",
        "# Assuming the column containing the height-for-age z-scores is named 'Height_for_Age_Z_Score'\n",
        "# Replace 'Height_for_Age_Z_Score' with your actual column name if it's different\n",
        "df['Stunting_Status'] = df['Z-Score (Height-for-Age)'].apply(map_stunting_status)\n",
        "df['Gender'] = df['Gender'].apply(map_gender)\n",
        "\n",
        "# Save the updated dataframe to a new Excel file (or overwrite the existing one)\n",
        "output_file_path = 'updated_stunting_data.xlsx'  # New file with updated labels\n",
        "df.to_excel(output_file_path, index=False)\n",
        "\n",
        "# Print a sample of the dataframe to verify changes\n",
        "print(df.head(10))\n"
      ],
      "metadata": {
        "colab": {
          "base_uri": "https://localhost:8080/"
        },
        "id": "Q981x7HqVhQL",
        "outputId": "eae1e0a9-742c-4b38-b271-3612f28ee90d"
      },
      "execution_count": null,
      "outputs": [
        {
          "output_type": "stream",
          "name": "stdout",
          "text": [
            "   Child ID  Age (Years)  Gender  Height (cm)  Weight (kg)    BMI  \\\n",
            "0         1           12       0          141           32  16.10   \n",
            "1         2            8       0          121           26  17.76   \n",
            "2         3           10       1          127           34  21.08   \n",
            "3         4            7       0          116           22  16.35   \n",
            "4         5           12       1          139           44  22.77   \n",
            "5         6            9       1          123           24  15.86   \n",
            "6         7           12       1          141           40  20.12   \n",
            "7         8            5       0          100           17  17.00   \n",
            "8         9            9       0          126           23  14.49   \n",
            "9        10            8       0          119           24  16.95   \n",
            "\n",
            "   Z-Score (Height-for-Age)  Protein Intake (g/day)  \\\n",
            "0                      -4.0                      41   \n",
            "1                      -4.0                      28   \n",
            "2                      -4.0                      54   \n",
            "3                      -4.0                      29   \n",
            "4                      -4.0                      41   \n",
            "5                      -4.0                      39   \n",
            "6                      -4.0                      44   \n",
            "7                      -4.0                      23   \n",
            "8                      -4.0                      35   \n",
            "9                      -4.0                      36   \n",
            "\n",
            "   Carbohydrate Intake (g/day)  Iron Intake (mg/day)  Calcium Intake (mg/day)  \\\n",
            "0                          228                    11                     1204   \n",
            "1                          175                     9                     1053   \n",
            "2                          236                    17                     1261   \n",
            "3                          177                     9                     1021   \n",
            "4                          222                    15                     1228   \n",
            "5                          172                     9                     1006   \n",
            "6                          243                    16                     1231   \n",
            "7                          131                     8                      871   \n",
            "8                          203                     8                     1027   \n",
            "9                          165                     8                     1077   \n",
            "\n",
            "    Stunting Status Obesity Status (BMI)  Stunting_Status  \n",
            "0  Severely Stunted          Underweight                2  \n",
            "1  Severely Stunted          Underweight                2  \n",
            "2  Severely Stunted        Normal weight                2  \n",
            "3  Severely Stunted          Underweight                2  \n",
            "4  Severely Stunted        Normal weight                2  \n",
            "5  Severely Stunted          Underweight                2  \n",
            "6  Severely Stunted        Normal weight                2  \n",
            "7  Severely Stunted          Underweight                2  \n",
            "8  Severely Stunted          Underweight                2  \n",
            "9  Severely Stunted          Underweight                2  \n"
          ]
        }
      ]
    },
    {
      "cell_type": "code",
      "source": [
        "X = df[['Height (cm)', 'Weight (kg)', 'Age (Years)', 'Gender']]\n",
        "y = df['Stunting_Status']"
      ],
      "metadata": {
        "id": "XxDac_hqWtxL"
      },
      "execution_count": null,
      "outputs": []
    },
    {
      "cell_type": "code",
      "source": [
        "X_train, X_test, y_train, y_test = train_test_split(X, y, test_size=0.2, random_state=42)"
      ],
      "metadata": {
        "id": "EeLntPXaV7Wj"
      },
      "execution_count": null,
      "outputs": []
    },
    {
      "cell_type": "code",
      "source": [
        "# Inisialisasi dan training model Random Forest\n",
        "model = RandomForestClassifier(n_estimators=100, random_state=42)\n",
        "model.fit(X_train, y_train)\n",
        "\n",
        "# Prediksi pada data uji\n",
        "y_pred = model.predict(X_test)"
      ],
      "metadata": {
        "id": "YuIQm02TZGs3"
      },
      "execution_count": null,
      "outputs": []
    },
    {
      "cell_type": "code",
      "source": [
        "# Evaluasi hasil\n",
        "print(\"Accuracy:\", accuracy_score(y_test, y_pred))\n",
        "print(\"\\nClassification Report:\\n\", classification_report(y_test, y_pred))\n",
        "print(\"\\nConfusion Matrix:\\n\", confusion_matrix(y_test, y_pred))"
      ],
      "metadata": {
        "colab": {
          "base_uri": "https://localhost:8080/"
        },
        "id": "O4e0SyMpZzlt",
        "outputId": "da33a258-52c5-4d65-8b28-91bac2b686f7"
      },
      "execution_count": null,
      "outputs": [
        {
          "output_type": "stream",
          "name": "stdout",
          "text": [
            "Accuracy: 0.9966666666666667\n",
            "\n",
            "Classification Report:\n",
            "               precision    recall  f1-score   support\n",
            "\n",
            "           0       1.00      0.99      1.00       102\n",
            "           1       0.99      1.00      0.99        92\n",
            "           2       1.00      1.00      1.00       106\n",
            "\n",
            "    accuracy                           1.00       300\n",
            "   macro avg       1.00      1.00      1.00       300\n",
            "weighted avg       1.00      1.00      1.00       300\n",
            "\n",
            "\n",
            "Confusion Matrix:\n",
            " [[101   1   0]\n",
            " [  0  92   0]\n",
            " [  0   0 106]]\n"
          ]
        }
      ]
    },
    {
      "cell_type": "code",
      "source": [
        "from sklearn.metrics import confusion_matrix\n",
        "\n",
        "# Menampilkan confusion matrix\n",
        "conf_matrix = confusion_matrix(y_test, y_pred)\n",
        "print(\"Confusion Matrix:\")\n",
        "print(conf_matrix)"
      ],
      "metadata": {
        "colab": {
          "base_uri": "https://localhost:8080/"
        },
        "id": "npRqL0MPaEx9",
        "outputId": "df0a0067-1879-4a2e-c8e9-78f3e1cfc740"
      },
      "execution_count": null,
      "outputs": [
        {
          "output_type": "stream",
          "name": "stdout",
          "text": [
            "Confusion Matrix:\n",
            "[[101   1   0]\n",
            " [  0  92   0]\n",
            " [  0   0 106]]\n"
          ]
        }
      ]
    },
    {
      "cell_type": "code",
      "source": [
        "# Menampilkan pentingnya fitur\n",
        "importances = model.feature_importances_\n",
        "features = X.columns\n",
        "\n",
        "print(\"Feature Importance:\")\n",
        "for feature, importance in zip(features, importances):\n",
        "    print(f\"{feature}: {importance:.4f}\")"
      ],
      "metadata": {
        "colab": {
          "base_uri": "https://localhost:8080/"
        },
        "id": "SwhBODwMZ25R",
        "outputId": "fef3e98c-920e-4897-bdcc-bb5ee8a9c047"
      },
      "execution_count": null,
      "outputs": [
        {
          "output_type": "stream",
          "name": "stdout",
          "text": [
            "Feature Importance:\n",
            "Height (cm): 0.7312\n",
            "Weight (kg): 0.0616\n",
            "Age (Years): 0.1992\n",
            "Gender: 0.0080\n"
          ]
        }
      ]
    },
    {
      "cell_type": "code",
      "source": [
        "prediksi = model.predict(pd.DataFrame([[155,45,8,1]], columns=['Height (cm)', 'Weight (kg)', 'Age (Years)', 'Gender']))"
      ],
      "metadata": {
        "id": "5J74SJRTafEt"
      },
      "execution_count": null,
      "outputs": []
    },
    {
      "cell_type": "code",
      "source": [
        "status = ['Normal', 'Stunted', 'Severely Stunted']\n",
        "print(f\"Prediksi Stunting Status: {status[prediksi[0]]}\")"
      ],
      "metadata": {
        "colab": {
          "base_uri": "https://localhost:8080/"
        },
        "id": "W-AAIM18a1ec",
        "outputId": "c5db413d-eeee-4498-dd72-46b6ea74154f"
      },
      "execution_count": null,
      "outputs": [
        {
          "output_type": "stream",
          "name": "stdout",
          "text": [
            "Prediksi Stunting Status: Normal\n"
          ]
        }
      ]
    }
  ]
}